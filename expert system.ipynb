{
  "nbformat": 4,
  "nbformat_minor": 0,
  "metadata": {
    "colab": {
      "provenance": [],
      "authorship_tag": "ABX9TyO6sAAPW1quW/+8A2ZcS6TW",
      "include_colab_link": true
    },
    "kernelspec": {
      "name": "python3",
      "display_name": "Python 3"
    },
    "language_info": {
      "name": "python"
    }
  },
  "cells": [
    {
      "cell_type": "markdown",
      "metadata": {
        "id": "view-in-github",
        "colab_type": "text"
      },
      "source": [
        "<a href=\"https://colab.research.google.com/github/rakss6/rakss/blob/main/expert%20system.ipynb\" target=\"_parent\"><img src=\"https://colab.research.google.com/assets/colab-badge.svg\" alt=\"Open In Colab\"/></a>"
      ]
    },
    {
      "cell_type": "code",
      "source": [
        "m1=int(input(\"enter mark in 1st subject:\"))\n",
        "m2=int(input(\"enter mark in 1st subject:\"))\n",
        "avg=(m1+m2)/2\n",
        "if avg>80:\n",
        "     print(\"grade A\")\n",
        "\n",
        "elif avg>=70 and avg<80:\n",
        "    print(\"grade B\")\n",
        "\n",
        "elif avg>=60 and avg<70:\n",
        "    print(\"grade C\")\n",
        "\n",
        "elif avg>=50 and avg<60:\n",
        "    print(\"grade D\")\n",
        "\n",
        "else: \n",
        "\n",
        "    print(\"grade E\")"
      ],
      "metadata": {
        "colab": {
          "base_uri": "https://localhost:8080/"
        },
        "id": "mmf29Ouweazi",
        "outputId": "2b7ef3b9-f2d2-42c8-df91-4ac277c793f4"
      },
      "execution_count": 3,
      "outputs": [
        {
          "output_type": "stream",
          "name": "stdout",
          "text": [
            "enter mark in 1st subject:99\n",
            "enter mark in 1st subject:77\n",
            "grade A\n"
          ]
        }
      ]
    }
  ]
}